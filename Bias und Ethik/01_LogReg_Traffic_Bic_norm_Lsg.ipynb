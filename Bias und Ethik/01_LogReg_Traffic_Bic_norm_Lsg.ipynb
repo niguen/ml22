{
 "cells": [
  {
   "cell_type": "markdown",
   "metadata": {},
   "source": [
    "# Logistische Regression\n",
    "Klassifikation von Verkehrsteilnehmern (Pkw, Fußgänger, Fahrradfahrer)"
   ]
  },
  {
   "cell_type": "code",
   "execution_count": 1,
   "metadata": {},
   "outputs": [],
   "source": [
    "# Import libraries\n",
    "%matplotlib inline\n",
    "import matplotlib.pyplot as plt\n",
    "import pandas as pd\n",
    "import random"
   ]
  },
  {
   "cell_type": "code",
   "execution_count": 2,
   "metadata": {},
   "outputs": [
    {
     "data": {
      "text/html": [
       "<div>\n",
       "<style scoped>\n",
       "    .dataframe tbody tr th:only-of-type {\n",
       "        vertical-align: middle;\n",
       "    }\n",
       "\n",
       "    .dataframe tbody tr th {\n",
       "        vertical-align: top;\n",
       "    }\n",
       "\n",
       "    .dataframe thead th {\n",
       "        text-align: right;\n",
       "    }\n",
       "</style>\n",
       "<table border=\"1\" class=\"dataframe\">\n",
       "  <thead>\n",
       "    <tr style=\"text-align: right;\">\n",
       "      <th></th>\n",
       "      <th>Velocity</th>\n",
       "      <th>Weight</th>\n",
       "      <th>Class</th>\n",
       "    </tr>\n",
       "  </thead>\n",
       "  <tbody>\n",
       "    <tr>\n",
       "      <th>0</th>\n",
       "      <td>4.596708</td>\n",
       "      <td>55.688821</td>\n",
       "      <td>Pedestrian</td>\n",
       "    </tr>\n",
       "    <tr>\n",
       "      <th>1</th>\n",
       "      <td>0.510831</td>\n",
       "      <td>45.153992</td>\n",
       "      <td>Pedestrian</td>\n",
       "    </tr>\n",
       "    <tr>\n",
       "      <th>2</th>\n",
       "      <td>1.281898</td>\n",
       "      <td>101.899550</td>\n",
       "      <td>Pedestrian</td>\n",
       "    </tr>\n",
       "    <tr>\n",
       "      <th>3</th>\n",
       "      <td>3.874816</td>\n",
       "      <td>46.065996</td>\n",
       "      <td>Pedestrian</td>\n",
       "    </tr>\n",
       "    <tr>\n",
       "      <th>4</th>\n",
       "      <td>0.003699</td>\n",
       "      <td>67.035412</td>\n",
       "      <td>Pedestrian</td>\n",
       "    </tr>\n",
       "    <tr>\n",
       "      <th>5</th>\n",
       "      <td>2.141317</td>\n",
       "      <td>78.730134</td>\n",
       "      <td>Pedestrian</td>\n",
       "    </tr>\n",
       "    <tr>\n",
       "      <th>6</th>\n",
       "      <td>0.816205</td>\n",
       "      <td>99.153828</td>\n",
       "      <td>Pedestrian</td>\n",
       "    </tr>\n",
       "    <tr>\n",
       "      <th>7</th>\n",
       "      <td>0.293225</td>\n",
       "      <td>73.811908</td>\n",
       "      <td>Pedestrian</td>\n",
       "    </tr>\n",
       "    <tr>\n",
       "      <th>8</th>\n",
       "      <td>1.724872</td>\n",
       "      <td>51.298558</td>\n",
       "      <td>Pedestrian</td>\n",
       "    </tr>\n",
       "    <tr>\n",
       "      <th>9</th>\n",
       "      <td>4.416819</td>\n",
       "      <td>89.015390</td>\n",
       "      <td>Pedestrian</td>\n",
       "    </tr>\n",
       "    <tr>\n",
       "      <th>10</th>\n",
       "      <td>4.702249</td>\n",
       "      <td>64.974450</td>\n",
       "      <td>Pedestrian</td>\n",
       "    </tr>\n",
       "    <tr>\n",
       "      <th>11</th>\n",
       "      <td>1.599125</td>\n",
       "      <td>74.155947</td>\n",
       "      <td>Pedestrian</td>\n",
       "    </tr>\n",
       "    <tr>\n",
       "      <th>12</th>\n",
       "      <td>2.824273</td>\n",
       "      <td>61.778631</td>\n",
       "      <td>Pedestrian</td>\n",
       "    </tr>\n",
       "    <tr>\n",
       "      <th>13</th>\n",
       "      <td>0.144852</td>\n",
       "      <td>94.363278</td>\n",
       "      <td>Pedestrian</td>\n",
       "    </tr>\n",
       "    <tr>\n",
       "      <th>14</th>\n",
       "      <td>2.998221</td>\n",
       "      <td>54.043772</td>\n",
       "      <td>Pedestrian</td>\n",
       "    </tr>\n",
       "  </tbody>\n",
       "</table>\n",
       "</div>"
      ],
      "text/plain": [
       "    Velocity      Weight       Class\n",
       "0   4.596708   55.688821  Pedestrian\n",
       "1   0.510831   45.153992  Pedestrian\n",
       "2   1.281898  101.899550  Pedestrian\n",
       "3   3.874816   46.065996  Pedestrian\n",
       "4   0.003699   67.035412  Pedestrian\n",
       "5   2.141317   78.730134  Pedestrian\n",
       "6   0.816205   99.153828  Pedestrian\n",
       "7   0.293225   73.811908  Pedestrian\n",
       "8   1.724872   51.298558  Pedestrian\n",
       "9   4.416819   89.015390  Pedestrian\n",
       "10  4.702249   64.974450  Pedestrian\n",
       "11  1.599125   74.155947  Pedestrian\n",
       "12  2.824273   61.778631  Pedestrian\n",
       "13  0.144852   94.363278  Pedestrian\n",
       "14  2.998221   54.043772  Pedestrian"
      ]
     },
     "execution_count": 2,
     "metadata": {},
     "output_type": "execute_result"
    }
   ],
   "source": [
    "# Todo: Load data to DataFrame\n",
    "data = pd.read_csv('Car_Ped_Bic_Class.csv')\n",
    "data.head(15)"
   ]
  },
  {
   "cell_type": "code",
   "execution_count": 3,
   "metadata": {},
   "outputs": [
    {
     "data": {
      "text/html": [
       "<div>\n",
       "<style scoped>\n",
       "    .dataframe tbody tr th:only-of-type {\n",
       "        vertical-align: middle;\n",
       "    }\n",
       "\n",
       "    .dataframe tbody tr th {\n",
       "        vertical-align: top;\n",
       "    }\n",
       "\n",
       "    .dataframe thead th {\n",
       "        text-align: right;\n",
       "    }\n",
       "</style>\n",
       "<table border=\"1\" class=\"dataframe\">\n",
       "  <thead>\n",
       "    <tr style=\"text-align: right;\">\n",
       "      <th></th>\n",
       "      <th>Velocity</th>\n",
       "      <th>Weight</th>\n",
       "      <th>Class</th>\n",
       "    </tr>\n",
       "  </thead>\n",
       "  <tbody>\n",
       "    <tr>\n",
       "      <th>0</th>\n",
       "      <td>1.692960</td>\n",
       "      <td>47.890817</td>\n",
       "      <td>Pedestrian</td>\n",
       "    </tr>\n",
       "    <tr>\n",
       "      <th>1</th>\n",
       "      <td>9.938960</td>\n",
       "      <td>83.511924</td>\n",
       "      <td>Bicycle</td>\n",
       "    </tr>\n",
       "    <tr>\n",
       "      <th>2</th>\n",
       "      <td>74.992291</td>\n",
       "      <td>935.429334</td>\n",
       "      <td>Car</td>\n",
       "    </tr>\n",
       "    <tr>\n",
       "      <th>3</th>\n",
       "      <td>4.576749</td>\n",
       "      <td>91.237982</td>\n",
       "      <td>Pedestrian</td>\n",
       "    </tr>\n",
       "    <tr>\n",
       "      <th>4</th>\n",
       "      <td>3.845445</td>\n",
       "      <td>54.645564</td>\n",
       "      <td>Pedestrian</td>\n",
       "    </tr>\n",
       "  </tbody>\n",
       "</table>\n",
       "</div>"
      ],
      "text/plain": [
       "    Velocity      Weight       Class\n",
       "0   1.692960   47.890817  Pedestrian\n",
       "1   9.938960   83.511924     Bicycle\n",
       "2  74.992291  935.429334         Car\n",
       "3   4.576749   91.237982  Pedestrian\n",
       "4   3.845445   54.645564  Pedestrian"
      ]
     },
     "execution_count": 3,
     "metadata": {},
     "output_type": "execute_result"
    }
   ],
   "source": [
    "# Shuffle data\n",
    "data = data.sample(frac=1).reset_index(drop=True)\n",
    "data.head()"
   ]
  },
  {
   "cell_type": "code",
   "execution_count": 4,
   "metadata": {},
   "outputs": [
    {
     "data": {
      "text/plain": [
       "array(['Pedestrian', 'Bicycle', 'Car'], dtype=object)"
      ]
     },
     "execution_count": 4,
     "metadata": {},
     "output_type": "execute_result"
    }
   ],
   "source": [
    "# Classes\n",
    "data['Class'].unique()"
   ]
  },
  {
   "cell_type": "code",
   "execution_count": 5,
   "metadata": {},
   "outputs": [
    {
     "data": {
      "image/png": "[encoded data removed]",
      "text/plain": [
       "<Figure size 432x288 with 1 Axes>"
      ]
     },
     "metadata": {
      "needs_background": "light"
     },
     "output_type": "display_data"
    }
   ],
   "source": [
    "# Plot data\n",
    "\n",
    "cars = data[data['Class']=='Car']\n",
    "pedest = data[data['Class']=='Pedestrian']\n",
    "bicycle = data[data['Class']=='Bicycle']\n",
    "\n",
    "plt.scatter(cars['Velocity'], cars['Weight'], alpha=0.5)\n",
    "plt.scatter(pedest['Velocity'], pedest['Weight'], alpha=0.5, c='orange')\n",
    "plt.scatter(bicycle['Velocity'], bicycle['Weight'], alpha=0.5, c='red')\n",
    "    \n",
    "plt.legend(['Car', 'Pedestrian', 'Bicycle'])\n",
    "\n",
    "plt.xlabel('Velocity [m/s]')\n",
    "plt.ylabel('Weight [kg]') \n",
    "\n",
    "plt.show()"
   ]
  },
  {
   "cell_type": "markdown",
   "metadata": {},
   "source": [
    "Zuordnung zur Klasse \"Car\" dann, wenn \"Weight\" > 400 kg<br>\n",
    "Weitere Modellbildung nur für die zwei Klassen \"Pedestrian\" und \"Bicycle\""
   ]
  },
  {
   "cell_type": "code",
   "execution_count": 6,
   "metadata": {},
   "outputs": [
    {
     "name": "stdout",
     "output_type": "stream",
     "text": [
      "4000\n"
     ]
    },
    {
     "data": {
      "text/html": [
       "<div>\n",
       "<style scoped>\n",
       "    .dataframe tbody tr th:only-of-type {\n",
       "        vertical-align: middle;\n",
       "    }\n",
       "\n",
       "    .dataframe tbody tr th {\n",
       "        vertical-align: top;\n",
       "    }\n",
       "\n",
       "    .dataframe thead th {\n",
       "        text-align: right;\n",
       "    }\n",
       "</style>\n",
       "<table border=\"1\" class=\"dataframe\">\n",
       "  <thead>\n",
       "    <tr style=\"text-align: right;\">\n",
       "      <th></th>\n",
       "      <th>Velocity</th>\n",
       "      <th>Weight</th>\n",
       "      <th>Class</th>\n",
       "    </tr>\n",
       "  </thead>\n",
       "  <tbody>\n",
       "    <tr>\n",
       "      <th>0</th>\n",
       "      <td>1.692960</td>\n",
       "      <td>47.890817</td>\n",
       "      <td>Pedestrian</td>\n",
       "    </tr>\n",
       "    <tr>\n",
       "      <th>1</th>\n",
       "      <td>9.938960</td>\n",
       "      <td>83.511924</td>\n",
       "      <td>Bicycle</td>\n",
       "    </tr>\n",
       "    <tr>\n",
       "      <th>2</th>\n",
       "      <td>4.576749</td>\n",
       "      <td>91.237982</td>\n",
       "      <td>Pedestrian</td>\n",
       "    </tr>\n",
       "    <tr>\n",
       "      <th>3</th>\n",
       "      <td>3.845445</td>\n",
       "      <td>54.645564</td>\n",
       "      <td>Pedestrian</td>\n",
       "    </tr>\n",
       "    <tr>\n",
       "      <th>4</th>\n",
       "      <td>21.035685</td>\n",
       "      <td>91.813837</td>\n",
       "      <td>Bicycle</td>\n",
       "    </tr>\n",
       "    <tr>\n",
       "      <th>...</th>\n",
       "      <td>...</td>\n",
       "      <td>...</td>\n",
       "      <td>...</td>\n",
       "    </tr>\n",
       "    <tr>\n",
       "      <th>3995</th>\n",
       "      <td>24.149140</td>\n",
       "      <td>56.562775</td>\n",
       "      <td>Bicycle</td>\n",
       "    </tr>\n",
       "    <tr>\n",
       "      <th>3996</th>\n",
       "      <td>20.275966</td>\n",
       "      <td>98.477018</td>\n",
       "      <td>Bicycle</td>\n",
       "    </tr>\n",
       "    <tr>\n",
       "      <th>3997</th>\n",
       "      <td>2.230755</td>\n",
       "      <td>95.475656</td>\n",
       "      <td>Pedestrian</td>\n",
       "    </tr>\n",
       "    <tr>\n",
       "      <th>3998</th>\n",
       "      <td>11.696587</td>\n",
       "      <td>91.231540</td>\n",
       "      <td>Bicycle</td>\n",
       "    </tr>\n",
       "    <tr>\n",
       "      <th>3999</th>\n",
       "      <td>18.975669</td>\n",
       "      <td>86.946748</td>\n",
       "      <td>Bicycle</td>\n",
       "    </tr>\n",
       "  </tbody>\n",
       "</table>\n",
       "<p>4000 rows × 3 columns</p>\n",
       "</div>"
      ],
      "text/plain": [
       "       Velocity     Weight       Class\n",
       "0      1.692960  47.890817  Pedestrian\n",
       "1      9.938960  83.511924     Bicycle\n",
       "2      4.576749  91.237982  Pedestrian\n",
       "3      3.845445  54.645564  Pedestrian\n",
       "4     21.035685  91.813837     Bicycle\n",
       "...         ...        ...         ...\n",
       "3995  24.149140  56.562775     Bicycle\n",
       "3996  20.275966  98.477018     Bicycle\n",
       "3997   2.230755  95.475656  Pedestrian\n",
       "3998  11.696587  91.231540     Bicycle\n",
       "3999  18.975669  86.946748     Bicycle\n",
       "\n",
       "[4000 rows x 3 columns]"
      ]
     },
     "execution_count": 6,
     "metadata": {},
     "output_type": "execute_result"
    }
   ],
   "source": [
    "data_sub = data[data['Class']!='Car']\n",
    "data_sub = data_sub.reset_index(drop=True)\n",
    "print(len(data_sub))\n",
    "data_sub"
   ]
  },
  {
   "cell_type": "markdown",
   "metadata": {},
   "source": [
    "### Datenbereinigung"
   ]
  },
  {
   "cell_type": "code",
   "execution_count": 7,
   "metadata": {},
   "outputs": [
    {
     "data": {
      "text/plain": [
       "Velocity    0\n",
       "Weight      0\n",
       "Class       0\n",
       "dtype: int64"
      ]
     },
     "execution_count": 7,
     "metadata": {},
     "output_type": "execute_result"
    }
   ],
   "source": [
    "# Todo: Check for NaNs and remove them if any\n",
    "data_sub.isnull().sum()"
   ]
  },
  {
   "cell_type": "markdown",
   "metadata": {},
   "source": [
    "### Datenaufbereitung"
   ]
  },
  {
   "cell_type": "code",
   "execution_count": 8,
   "metadata": {},
   "outputs": [
    {
     "data": {
      "text/html": [
       "<div>\n",
       "<style scoped>\n",
       "    .dataframe tbody tr th:only-of-type {\n",
       "        vertical-align: middle;\n",
       "    }\n",
       "\n",
       "    .dataframe tbody tr th {\n",
       "        vertical-align: top;\n",
       "    }\n",
       "\n",
       "    .dataframe thead th {\n",
       "        text-align: right;\n",
       "    }\n",
       "</style>\n",
       "<table border=\"1\" class=\"dataframe\">\n",
       "  <thead>\n",
       "    <tr style=\"text-align: right;\">\n",
       "      <th></th>\n",
       "      <th>Weight</th>\n",
       "      <th>Velocity</th>\n",
       "    </tr>\n",
       "  </thead>\n",
       "  <tbody>\n",
       "    <tr>\n",
       "      <th>0</th>\n",
       "      <td>47.890817</td>\n",
       "      <td>1.692960</td>\n",
       "    </tr>\n",
       "    <tr>\n",
       "      <th>1</th>\n",
       "      <td>83.511924</td>\n",
       "      <td>9.938960</td>\n",
       "    </tr>\n",
       "    <tr>\n",
       "      <th>2</th>\n",
       "      <td>91.237982</td>\n",
       "      <td>4.576749</td>\n",
       "    </tr>\n",
       "    <tr>\n",
       "      <th>3</th>\n",
       "      <td>54.645564</td>\n",
       "      <td>3.845445</td>\n",
       "    </tr>\n",
       "    <tr>\n",
       "      <th>4</th>\n",
       "      <td>91.813837</td>\n",
       "      <td>21.035685</td>\n",
       "    </tr>\n",
       "    <tr>\n",
       "      <th>...</th>\n",
       "      <td>...</td>\n",
       "      <td>...</td>\n",
       "    </tr>\n",
       "    <tr>\n",
       "      <th>3995</th>\n",
       "      <td>56.562775</td>\n",
       "      <td>24.149140</td>\n",
       "    </tr>\n",
       "    <tr>\n",
       "      <th>3996</th>\n",
       "      <td>98.477018</td>\n",
       "      <td>20.275966</td>\n",
       "    </tr>\n",
       "    <tr>\n",
       "      <th>3997</th>\n",
       "      <td>95.475656</td>\n",
       "      <td>2.230755</td>\n",
       "    </tr>\n",
       "    <tr>\n",
       "      <th>3998</th>\n",
       "      <td>91.231540</td>\n",
       "      <td>11.696587</td>\n",
       "    </tr>\n",
       "    <tr>\n",
       "      <th>3999</th>\n",
       "      <td>86.946748</td>\n",
       "      <td>18.975669</td>\n",
       "    </tr>\n",
       "  </tbody>\n",
       "</table>\n",
       "<p>4000 rows × 2 columns</p>\n",
       "</div>"
      ],
      "text/plain": [
       "         Weight   Velocity\n",
       "0     47.890817   1.692960\n",
       "1     83.511924   9.938960\n",
       "2     91.237982   4.576749\n",
       "3     54.645564   3.845445\n",
       "4     91.813837  21.035685\n",
       "...         ...        ...\n",
       "3995  56.562775  24.149140\n",
       "3996  98.477018  20.275966\n",
       "3997  95.475656   2.230755\n",
       "3998  91.231540  11.696587\n",
       "3999  86.946748  18.975669\n",
       "\n",
       "[4000 rows x 2 columns]"
      ]
     },
     "execution_count": 8,
     "metadata": {},
     "output_type": "execute_result"
    }
   ],
   "source": [
    "# Todo: Assign input features to variable X\n",
    "X = data_sub[['Weight','Velocity']]\n",
    "X"
   ]
  },
  {
   "cell_type": "code",
   "execution_count": 9,
   "metadata": {},
   "outputs": [
    {
     "data": {
      "text/plain": [
       "array([[-1.79684674, -0.9331965 ],\n",
       "       [ 0.58079585,  0.15582285],\n",
       "       [ 1.09649586, -0.55234487],\n",
       "       ...,\n",
       "       [ 1.37935268, -0.86217191],\n",
       "       [ 1.09606583,  0.38794639],\n",
       "       [ 0.81006398,  1.34926844]])"
      ]
     },
     "execution_count": 9,
     "metadata": {},
     "output_type": "execute_result"
    }
   ],
   "source": [
    "# Normalization of data\n",
    "from sklearn import preprocessing\n",
    "\n",
    "scaler = preprocessing.StandardScaler().fit(X)\n",
    "X_scaled = scaler.transform(X)\n",
    "X_scaled"
   ]
  },
  {
   "cell_type": "code",
   "execution_count": 10,
   "metadata": {},
   "outputs": [
    {
     "data": {
      "text/plain": [
       "0       0\n",
       "1       1\n",
       "2       0\n",
       "3       0\n",
       "4       1\n",
       "       ..\n",
       "3995    1\n",
       "3996    1\n",
       "3997    0\n",
       "3998    1\n",
       "3999    1\n",
       "Length: 4000, dtype: int64"
      ]
     },
     "execution_count": 10,
     "metadata": {},
     "output_type": "execute_result"
    }
   ],
   "source": [
    "# Todo: Assign class labels to variable y\n",
    "y = data_sub['Class']\n",
    "\n",
    "y = pd.Series([0 if d=='Pedestrian' else 1 for d in data_sub['Class']])\n",
    "y"
   ]
  },
  {
   "cell_type": "code",
   "execution_count": 11,
   "metadata": {},
   "outputs": [
    {
     "data": {
      "text/plain": [
       "array([0, 1], dtype=int64)"
      ]
     },
     "execution_count": 11,
     "metadata": {},
     "output_type": "execute_result"
    }
   ],
   "source": [
    "y.unique()"
   ]
  },
  {
   "cell_type": "markdown",
   "metadata": {},
   "source": [
    "### Modellierung"
   ]
  },
  {
   "cell_type": "code",
   "execution_count": 12,
   "metadata": {},
   "outputs": [
    {
     "name": "stderr",
     "output_type": "stream",
     "text": [
      "C:\\Users\\anne.stockem-novo\\Anaconda3\\envs\\kiec22\\lib\\site-packages\\statsmodels\\compat\\pandas.py:65: FutureWarning: pandas.Int64Index is deprecated and will be removed from pandas in a future version. Use pandas.Index with the appropriate dtype instead.\n",
      "  from pandas import Int64Index as NumericIndex\n"
     ]
    }
   ],
   "source": [
    "# Todo: Create a logistic regression model\n",
    "import statsmodels.api as sm\n",
    "\n",
    "log_reg = sm.Logit(y, X_scaled)"
   ]
  },
  {
   "cell_type": "code",
   "execution_count": 13,
   "metadata": {},
   "outputs": [
    {
     "name": "stdout",
     "output_type": "stream",
     "text": [
      "Optimization terminated successfully.\n",
      "         Current function value: 0.180501\n",
      "         Iterations 8\n"
     ]
    },
    {
     "data": {
      "text/html": [
       "<table class=\"simpletable\">\n",
       "<caption>Logit Regression Results</caption>\n",
       "<tr>\n",
       "  <th>Dep. Variable:</th>           <td>y</td>        <th>  No. Observations:  </th>  <td>  4000</td> \n",
       "</tr>\n",
       "<tr>\n",
       "  <th>Model:</th>                 <td>Logit</td>      <th>  Df Residuals:      </th>  <td>  3998</td> \n",
       "</tr>\n",
       "<tr>\n",
       "  <th>Method:</th>                 <td>MLE</td>       <th>  Df Model:          </th>  <td>     1</td> \n",
       "</tr>\n",
       "<tr>\n",
       "  <th>Date:</th>            <td>Thu, 24 Mar 2022</td> <th>  Pseudo R-squ.:     </th>  <td>0.7396</td> \n",
       "</tr>\n",
       "<tr>\n",
       "  <th>Time:</th>                <td>11:31:07</td>     <th>  Log-Likelihood:    </th> <td> -722.01</td>\n",
       "</tr>\n",
       "<tr>\n",
       "  <th>converged:</th>             <td>True</td>       <th>  LL-Null:           </th> <td> -2772.6</td>\n",
       "</tr>\n",
       "<tr>\n",
       "  <th>Covariance Type:</th>     <td>nonrobust</td>    <th>  LLR p-value:       </th>  <td> 0.000</td> \n",
       "</tr>\n",
       "</table>\n",
       "<table class=\"simpletable\">\n",
       "<tr>\n",
       "   <td></td>     <th>coef</th>     <th>std err</th>      <th>z</th>      <th>P>|z|</th>  <th>[0.025</th>    <th>0.975]</th>  \n",
       "</tr>\n",
       "<tr>\n",
       "  <th>x1</th> <td>    0.1381</td> <td>    0.073</td> <td>    1.882</td> <td> 0.060</td> <td>   -0.006</td> <td>    0.282</td>\n",
       "</tr>\n",
       "<tr>\n",
       "  <th>x2</th> <td>    4.5554</td> <td>    0.147</td> <td>   30.960</td> <td> 0.000</td> <td>    4.267</td> <td>    4.844</td>\n",
       "</tr>\n",
       "</table>"
      ],
      "text/plain": [
       "<class 'statsmodels.iolib.summary.Summary'>\n",
       "\"\"\"\n",
       "                           Logit Regression Results                           \n",
       "==============================================================================\n",
       "Dep. Variable:                      y   No. Observations:                 4000\n",
       "Model:                          Logit   Df Residuals:                     3998\n",
       "Method:                           MLE   Df Model:                            1\n",
       "Date:                Thu, 24 Mar 2022   Pseudo R-squ.:                  0.7396\n",
       "Time:                        11:31:07   Log-Likelihood:                -722.01\n",
       "converged:                       True   LL-Null:                       -2772.6\n",
       "Covariance Type:            nonrobust   LLR p-value:                     0.000\n",
       "==============================================================================\n",
       "                 coef    std err          z      P>|z|      [0.025      0.975]\n",
       "------------------------------------------------------------------------------\n",
       "x1             0.1381      0.073      1.882      0.060      -0.006       0.282\n",
       "x2             4.5554      0.147     30.960      0.000       4.267       4.844\n",
       "==============================================================================\n",
       "\"\"\""
      ]
     },
     "execution_count": 13,
     "metadata": {},
     "output_type": "execute_result"
    }
   ],
   "source": [
    "# Todo: Fit logistic regression model\n",
    "log_reg = log_reg.fit()\n",
    "log_reg.summary()"
   ]
  },
  {
   "cell_type": "code",
   "execution_count": 16,
   "metadata": {},
   "outputs": [],
   "source": [
    "# Todo: Make predictions on X (and get class assignments!)\n",
    "y_pred = log_reg.predict(X_scaled)\n",
    "y_pred_class = pd.Series([1 if p>0.5 else 0 for p in y_pred])"
   ]
  },
  {
   "cell_type": "code",
   "execution_count": 17,
   "metadata": {},
   "outputs": [
    {
     "data": {
      "text/plain": [
       "1.0"
      ]
     },
     "execution_count": 17,
     "metadata": {},
     "output_type": "execute_result"
    }
   ],
   "source": [
    "# Todo: Print accuracy score\n",
    "from sklearn.metrics import accuracy_score, precision_score, recall_score, classification_report\n",
    "accuracy_score(y, y_pred_class)\n",
    "precision_score(y, y_pred_class)"
   ]
  },
  {
   "cell_type": "code",
   "execution_count": 18,
   "metadata": {},
   "outputs": [
    {
     "name": "stdout",
     "output_type": "stream",
     "text": [
      "confusion matrix: \n",
      " [[2000    0]\n",
      " [ 362 1638]]\n"
     ]
    }
   ],
   "source": [
    "# Todo: Calculate confusion matrix\n",
    "from sklearn.metrics import confusion_matrix, classification_report\n",
    "\n",
    "cfn_mat = confusion_matrix(y, y_pred_class)\n",
    "print(\"confusion matrix: \\n\", cfn_mat)"
   ]
  },
  {
   "cell_type": "code",
   "execution_count": 19,
   "metadata": {},
   "outputs": [
    {
     "data": {
      "image/png": "[encoded data removed]",
      "text/plain": [
       "<Figure size 432x288 with 2 Axes>"
      ]
     },
     "metadata": {
      "needs_background": "light"
     },
     "output_type": "display_data"
    }
   ],
   "source": [
    "# Display confusion matrix with seaborn\n",
    "import seaborn as sns\n",
    "sns.heatmap(cfn_mat, annot=True, fmt='d', cmap=\"RdGy\")\n",
    "plt.xlabel('Predicted')\n",
    "plt.ylabel('Actual')\n",
    "plt.show()"
   ]
  },
  {
   "cell_type": "code",
   "execution_count": 20,
   "metadata": {},
   "outputs": [
    {
     "name": "stdout",
     "output_type": "stream",
     "text": [
      "              precision    recall  f1-score   support\n",
      "\n",
      "           0       0.85      1.00      0.92      2000\n",
      "           1       1.00      0.82      0.90      2000\n",
      "\n",
      "    accuracy                           0.91      4000\n",
      "   macro avg       0.92      0.91      0.91      4000\n",
      "weighted avg       0.92      0.91      0.91      4000\n",
      "\n"
     ]
    }
   ],
   "source": [
    "# Print classification report\n",
    "print(classification_report(y, y_pred_class))"
   ]
  },
  {
   "cell_type": "code",
   "execution_count": null,
   "metadata": {},
   "outputs": [],
   "source": []
  },
  {
   "cell_type": "code",
   "execution_count": null,
   "metadata": {},
   "outputs": [],
   "source": []
  }
 ],
 "metadata": {
  "kernelspec": {
   "display_name": "Python 3",
   "language": "python",
   "name": "python3"
  },
  "language_info": {
   "codemirror_mode": {
    "name": "ipython",
    "version": 3
   },
   "file_extension": ".py",
   "mimetype": "text/x-python",
   "name": "python",
   "nbconvert_exporter": "python",
   "pygments_lexer": "ipython3",
   "version": "3.9.7"
  }
 },
 "nbformat": 4,
 "nbformat_minor": 4
}
